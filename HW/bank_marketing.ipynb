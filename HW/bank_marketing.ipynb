{
 "cells": [
  {
   "cell_type": "markdown",
   "metadata": {},
   "source": [
    "Import modules and functions"
   ]
  },
  {
   "cell_type": "code",
   "execution_count": 6,
   "metadata": {},
   "outputs": [],
   "source": [
    "import pandas as pd\n",
    "import numpy as np\n",
    "from sklearn.model_selection import train_test_split\n",
    "from sklearn import preprocessing\n",
    "from sklearn.preprocessing import StandardScaler"
   ]
  },
  {
   "cell_type": "markdown",
   "metadata": {},
   "source": [
    "Import data and normalize it"
   ]
  },
  {
   "cell_type": "code",
   "execution_count": 7,
   "metadata": {
    "scrolled": true
   },
   "outputs": [],
   "source": [
    "dataset = pd.read_csv('bank.csv', sep = ';', header=0)\n",
    "d = {\n",
    "\n",
    "    'yes' : 1,\n",
    "    'no' : 0\n",
    "}\n",
    "\n",
    "dataset['job'] = dataset['job'].map(d)\n",
    "dataset['marital'] = dataset['marital'].map(d)\n",
    "dataset['education'] = dataset['education'].map(d)\n",
    "dataset['default'] = dataset['default'].map(d)\n",
    "dataset['balance'] = dataset['balance'].map(d)\n",
    "dataset['housing'] = dataset['housing'].map(d)\n",
    "dataset['loan'] = dataset['loan'].map(d)\n",
    "dataset['contact'] = dataset['contact'].map(d)\n",
    "dataset['month'] = dataset['month'].map(d)\n",
    "dataset['poutcome'] = dataset['poutcome'].map(d)\n",
    "dataset['y'] = dataset['y'].map(d)\n",
    "\n",
    "job = pd.get_dummies(dataset['job'])\n",
    "marital = pd.get_dummies(dataset['marital'])\n",
    "education = pd.get_dummies(dataset['education'])\n",
    "contact = pd.get_dummies(dataset['contact'])\n",
    "month = pd.get_dummies(dataset['month'])\n",
    "poutcome = pd.get_dummies(dataset['poutcome'])\n",
    "\n",
    "dataset['job']= dataset.join(job)\n",
    "dataset['marital']= dataset.join(marital)\n",
    "dataset['education']= dataset.join(education)\n",
    "dataset['contact']= dataset.join(contact)\n",
    "dataset['month']= dataset.join(month)\n",
    "dataset['poutcome']= dataset.join(poutcome)\n",
    "\n",
    "X = dataset[['age','default','housing','previous','campaign', 'loan','day','duration','pdays','education','job','marital','contact','month','poutcome']]\n",
    "y = dataset['y']\n",
    "\n",
    "X_train, X_test, y_train, y_test = train_test_split(X, y, test_size=0.3, random_state=1, stratify=y)\n",
    "\n",
    "normalizer = preprocessing.Normalizer()\n",
    "normalizer.fit(X_train)\n",
    "X_train_normalized = normalizer.transform(X_train)\n",
    "X_test_normalized = normalizer.transform(X_test)"
   ]
  },
  {
   "cell_type": "markdown",
   "metadata": {},
   "source": [
    "Plot function"
   ]
  },
  {
   "cell_type": "code",
   "execution_count": 8,
   "metadata": {},
   "outputs": [],
   "source": [
    "from matplotlib.colors import ListedColormap\n",
    "import matplotlib.pyplot as plt\n",
    "def plot_decision_regions(X, y, classifier, test_idx=None, resolution=0.02):\n",
    "    from matplotlib.colors import ListedColormap\n",
    "import matplotlib.pyplot as plt\n",
    "\n",
    "\n",
    "def plot_decision_regions(X, y, classifier, test_idx=None, resolution=0.02):\n",
    "\n",
    "    # setup marker generator and color map\n",
    "    markers = ('s', 'x', 'o', '^', 'v')\n",
    "    colors = ('red', 'blue', 'lightgreen', 'gray', 'cyan')\n",
    "    cmap = ListedColormap(colors[:len(np.unique(y))])\n",
    "\n",
    "    # plot the decision surface\n",
    "    x1_min, x1_max = X[:, 0].min() - 1, X[:, 0].max() + 1\n",
    "    x2_min, x2_max = X[:, 1].min() - 1, X[:, 1].max() + 1\n",
    "    xx1, xx2 = np.meshgrid(np.arange(x1_min, x1_max, resolution),\n",
    "                           np.arange(x2_min, x2_max, resolution))\n",
    "    Z = classifier.predict(np.array([xx1.ravel(), xx2.ravel()]).T)\n",
    "    Z = Z.reshape(xx1.shape)\n",
    "    plt.contourf(xx1, xx2, Z, alpha=0.3, cmap=cmap)\n",
    "    plt.xlim(xx1.min(), xx1.max())\n",
    "    plt.ylim(xx2.min(), xx2.max())\n",
    "\n",
    "    for idx, cl in enumerate(np.unique(y)):\n",
    "        plt.scatter(x=X[y == cl, 0], \n",
    "                    y=X[y == cl, 1],\n",
    "                    alpha=0.8, \n",
    "                    c=colors[idx],\n",
    "                    marker=markers[idx], \n",
    "                    label=cl, \n",
    "                    edgecolor='black')\n",
    "\n",
    "    # highlight test samples\n",
    "    if test_idx:\n",
    "        # plot all samples\n",
    "        X_test, y_test = X[test_idx, :], y[test_idx]\n",
    "\n",
    "        plt.scatter(X_test[:, 0],\n",
    "                    X_test[:, 1],\n",
    "                    c='',\n",
    "                    edgecolor='black',\n",
    "                    alpha=1.0,\n",
    "                    linewidth=1,\n",
    "                    marker='o',\n",
    "                    s=100, \n",
    "                    label='test set')"
   ]
  },
  {
   "cell_type": "markdown",
   "metadata": {},
   "source": [
    "Perceptron"
   ]
  },
  {
   "cell_type": "code",
   "execution_count": 11,
   "metadata": {},
   "outputs": [],
   "source": [
    "from sklearn.linear_model import Perceptron\n",
    "from sklearn.metrics import accuracy_score\n",
    "def find_best_features(X_train, X_test, y_train, y_test):\n",
    "    best_score = 0\n",
    "    column_names = X_train.columns.values.tolist()\n",
    "    c = dict(zip(range(X_train.columns.size),column_names))\n",
    "    for mm in range(X_train.columns.size):\n",
    "        for nn in range(X_train.columns.size):\n",
    "            if nn > mm:\n",
    "                ppn = Perceptron(max_iter=100, eta0=0.1, random_state=1)\n",
    "                ppn.fit(X_train[[c[mm],c[nn]]], y_train)\n",
    "                y_pred = ppn.predict(X_test[[c[mm],c[nn]]])\n",
    "                score = accuracy_score(y_test, y_pred)\n",
    "                if score > best_score:\n",
    "                    best_score = score\n",
    "                    best_features = [c[mm],c[nn]]\n",
    "                    xx1 = mm\n",
    "                    xx2 = nn\n",
    "    return [best_features, [xx1, xx2], best_score]"
   ]
  },
  {
   "cell_type": "code",
   "execution_count": 5,
   "metadata": {},
   "outputs": [
    {
     "name": "stdout",
     "output_type": "stream",
     "text": [
      "[['age', 'default'], [0, 1], 0.8850405305821666]\n"
     ]
    }
   ],
   "source": [
    "output = find_best_features(X_train, X_test, y_train, y_test)\n",
    "print(output)"
   ]
  },
  {
   "cell_type": "code",
   "execution_count": 6,
   "metadata": {},
   "outputs": [
    {
     "data": {
      "image/png": "[encoded data removed]",
      "text/plain": [
       "<matplotlib.figure.Figure at 0x2d07798ffd0>"
      ]
     },
     "metadata": {},
     "output_type": "display_data"
    }
   ],
   "source": [
    "def plot_best_feature(output, X_train, X_test, y_train, y_test):\n",
    "    ppn = Perceptron(max_iter=100, eta0=0.1, random_state=1)\n",
    "    ppn.fit(X_train[output[0]], y_train)\n",
    "    \n",
    "    X_combined = np.vstack((X_train[output[0]], X_test[output[0]]))\n",
    "    y_combined = np.hstack((y_train, y_test))\n",
    "    \n",
    "    plot_decision_regions(X=X_combined, y=y_combined,\n",
    "                      classifier=ppn, test_idx=range(105, 150))\n",
    "    plt.xlabel(output[0][0])\n",
    "    plt.ylabel(output[0][1])\n",
    "    plt.legend(loc='upper left')\n",
    "\n",
    "    plt.tight_layout()\n",
    "    plt.show()\n",
    "plot_best_feature(output, X_train, X_test, y_train, y_test)"
   ]
  },
  {
   "cell_type": "markdown",
   "metadata": {},
   "source": [
    "Logit regression"
   ]
  },
  {
   "cell_type": "code",
   "execution_count": 7,
   "metadata": {},
   "outputs": [],
   "source": [
    "from sklearn.linear_model import LogisticRegression\n",
    "\n",
    "def find_best_features(X_train, X_test, y_train, y_test):\n",
    "    best_score = 0\n",
    "    column_names = X_train.columns.values.tolist()\n",
    "    c = dict(zip(range(X_train.columns.size),column_names))\n",
    "    for mm in range(X_train.columns.size):\n",
    "        for nn in range(X_train.columns.size):\n",
    "            if nn > mm:\n",
    "                lr = LogisticRegression(C=100, random_state=1)\n",
    "                lr.fit(X_train[[c[mm],c[nn]]], y_train)\n",
    "                y_pred = lr.predict(X_test[[c[mm],c[nn]]])\n",
    "                score = accuracy_score(y_test, y_pred)\n",
    "                if score > best_score:\n",
    "                    best_score = score\n",
    "                    best_features = [c[mm],c[nn]]\n",
    "                    xx1 = mm\n",
    "                    xx2 = nn\n",
    "    return [best_features, [xx1, xx2], best_score]"
   ]
  },
  {
   "cell_type": "code",
   "execution_count": 8,
   "metadata": {},
   "outputs": [
    {
     "name": "stdout",
     "output_type": "stream",
     "text": [
      "[['housing', 'duration'], [2, 7], 0.8901989683124539]\n"
     ]
    }
   ],
   "source": [
    "output = find_best_features(X_train, X_test, y_train, y_test)\n",
    "print(output)"
   ]
  },
  {
   "cell_type": "code",
   "execution_count": 9,
   "metadata": {},
   "outputs": [
    {
     "data": {
      "image/png": "[encoded data removed]",
      "text/plain": [
       "<matplotlib.figure.Figure at 0x2d075fe5438>"
      ]
     },
     "metadata": {},
     "output_type": "display_data"
    }
   ],
   "source": [
    "def plot_best_feature(output, X_train, X_test, y_train, y_test):\n",
    "    lr = LogisticRegression(C=100, random_state=2333)\n",
    "    lr.fit(X_train[output[0]], y_train)\n",
    "    \n",
    "    X_combined = np.vstack((X_train[output[0]], X_test[output[0]]))\n",
    "    y_combined = np.hstack((y_train, y_test))\n",
    "    \n",
    "    plot_decision_regions(X=X_combined, y=y_combined,\n",
    "                      classifier=lr, test_idx=range(105, 150))\n",
    "    plt.xlabel(output[0][0])\n",
    "    plt.ylabel(output[0][1])\n",
    "    plt.legend(loc='upper left')\n",
    "\n",
    "    plt.tight_layout()\n",
    "    plt.show()\n",
    "plot_best_feature(output, X_train, X_test, y_train, y_test)"
   ]
  },
  {
   "cell_type": "markdown",
   "metadata": {},
   "source": [
    "SVM"
   ]
  },
  {
   "cell_type": "code",
   "execution_count": 10,
   "metadata": {},
   "outputs": [],
   "source": [
    "from sklearn.svm import SVC\n",
    "def find_best_features(X_train, X_test, y_train, y_test):\n",
    "    best_score = 0\n",
    "    column_names = X_train.columns.values.tolist()\n",
    "    c = dict(zip(range(X_train.columns.size),column_names))\n",
    "    for mm in range(X_train.columns.size):\n",
    "        for nn in range(X_train.columns.size):\n",
    "            if nn > mm:\n",
    "                svm = SVC(kernel='rbf', random_state=1, gamma=0.10, C=10.0)\n",
    "                svm.fit(X_train[[c[mm],c[nn]]], y_train)\n",
    "                y_pred = svm.predict(X_test[[c[mm],c[nn]]])\n",
    "                score = accuracy_score(y_test, y_pred)\n",
    "                if score > best_score:\n",
    "                    best_score = score\n",
    "                    best_features = [c[mm],c[nn]]\n",
    "                    xx1 = mm\n",
    "                    xx2 = nn\n",
    "    return [best_features, [xx1, xx2], best_score]\n"
   ]
  },
  {
   "cell_type": "code",
   "execution_count": 11,
   "metadata": {},
   "outputs": [
    {
     "name": "stdout",
     "output_type": "stream",
     "text": [
      "[['housing', 'pdays'], [2, 8], 0.8865143699336773]\n"
     ]
    }
   ],
   "source": [
    "output = find_best_features(X_train, X_test, y_train, y_test)\n",
    "print(output)"
   ]
  },
  {
   "cell_type": "code",
   "execution_count": 12,
   "metadata": {},
   "outputs": [
    {
     "data": {
      "image/png": "[encoded data removed]",
      "text/plain": [
       "<matplotlib.figure.Figure at 0x2d000011358>"
      ]
     },
     "metadata": {},
     "output_type": "display_data"
    }
   ],
   "source": [
    "def plot_best_feature(output, X_train, X_test, y_train, y_test):\n",
    "    svm = SVC(kernel='linear', C=5.0, random_state=2333)\n",
    "    svm.fit(X_train[output[0]], y_train)\n",
    "    \n",
    "    X_combined = np.vstack((X_train[output[0]], X_test[output[0]]))\n",
    "    y_combined = np.hstack((y_train, y_test))\n",
    "    \n",
    "    plot_decision_regions(X=X_combined, y=y_combined,\n",
    "                      classifier=svm, test_idx=range(105, 150))\n",
    "    plt.xlabel(output[0][0])\n",
    "    plt.ylabel(output[0][1])\n",
    "    plt.legend(loc='upper left')\n",
    "\n",
    "    plt.tight_layout()\n",
    "    #plt.savefig('images/ppn.png', dpi=300)\n",
    "    plt.show()\n",
    "plot_best_feature(output, X_train, X_test, y_train, y_test)"
   ]
  },
  {
   "cell_type": "markdown",
   "metadata": {},
   "source": [
    "Decision tree"
   ]
  },
  {
   "cell_type": "code",
   "execution_count": 12,
   "metadata": {},
   "outputs": [],
   "source": [
    "from sklearn.tree import DecisionTreeClassifier\n",
    "\n",
    "def find_best_features(X_train, X_test, y_train, y_test):\n",
    "    best_score = 0\n",
    "    column_names = X_train.columns.values.tolist()\n",
    "    c = dict(zip(range(X_train.columns.size),column_names))\n",
    "    for mm in range(X_train.columns.size):\n",
    "        for nn in range(X_train.columns.size):\n",
    "            if nn > mm:\n",
    "                tree = DecisionTreeClassifier(criterion='gini', \n",
    "                              max_depth=4, \n",
    "                              random_state=1)\n",
    "                tree.fit(X_train[[c[mm],c[nn]]], y_train)\n",
    "                y_pred = tree.predict(X_test[[c[mm],c[nn]]])\n",
    "                score = accuracy_score(y_test, y_pred)\n",
    "                if score > best_score:\n",
    "                    best_score = score\n",
    "                    best_features = [c[mm],c[nn]]\n",
    "                    xx1 = mm\n",
    "                    xx2 = nn\n",
    "    return [best_features, [xx1, xx2], best_score]"
   ]
  },
  {
   "cell_type": "code",
   "execution_count": 13,
   "metadata": {},
   "outputs": [
    {
     "name": "stdout",
     "output_type": "stream",
     "text": [
      "[['duration', 'pdays'], [7, 8], 0.8894620486366986]\n"
     ]
    }
   ],
   "source": [
    "output = find_best_features(X_train, X_test, y_train, y_test)\n",
    "print(output)"
   ]
  },
  {
   "cell_type": "code",
   "execution_count": 14,
   "metadata": {},
   "outputs": [],
   "source": [
    "def plot_best_feature(output, X_train, X_test, y_train, y_test):\n",
    "    tree = DecisionTreeClassifier(criterion='gini', \n",
    "                              max_depth=4, \n",
    "                              random_state=2333)\n",
    "    tree.fit(X_train[output[0]], y_train)\n",
    "    \n",
    "    X_combined = np.vstack((X_train[output[0]], X_test[output[0]]))\n",
    "    y_combined = np.hstack((y_train, y_test))\n",
    "    \n",
    "    plot_decision_regions(X=X_combined, y=y_combined,\n",
    "                      classifier=tree, test_idx=range(105, 150))\n",
    "    plt.xlabel(output[0][0])\n",
    "    plt.ylabel(output[0][1])\n",
    "    plt.legend(loc='upper left')\n",
    "\n",
    "    plt.tight_layout()\n",
    "    plt.show()"
   ]
  },
  {
   "cell_type": "code",
   "execution_count": 21,
   "metadata": {},
   "outputs": [
    {
     "data": {
      "image/png": "[encoded data removed]",
      "text/plain": [
       "<matplotlib.figure.Figure at 0x12106cdf630>"
      ]
     },
     "metadata": {},
     "output_type": "display_data"
    }
   ],
   "source": [
    "plot_best_feature(output, X_train, X_test, y_train, y_test)"
   ]
  },
  {
   "cell_type": "markdown",
   "metadata": {},
   "source": [
    "KNN"
   ]
  },
  {
   "cell_type": "code",
   "execution_count": 17,
   "metadata": {},
   "outputs": [],
   "source": [
    "\n",
    "from sklearn.neighbors import KNeighborsClassifier\n",
    "\n",
    "def find_best_features(X_train, X_test, y_train, y_test):\n",
    "    best_score = 0\n",
    "    column_names = X_train.columns.values.tolist()\n",
    "    c = dict(zip(range(X_train.columns.size),column_names))\n",
    "    for mm in range(X_train.columns.size):\n",
    "        for nn in range(X_train.columns.size):\n",
    "            if nn > mm:\n",
    "                knn = KNeighborsClassifier(n_neighbors=5, \n",
    "                           p=2, \n",
    "                           metric='minkowski')\n",
    "                knn.fit(X_train[[c[mm],c[nn]]], y_train)\n",
    "                y_pred = knn.predict(X_test[[c[mm],c[nn]]])\n",
    "                score = accuracy_score(y_test, y_pred)\n",
    "                if score > best_score:\n",
    "                    best_score = score\n",
    "                    best_features = [c[mm],c[nn]]\n",
    "                    xx1 = mm\n",
    "                    xx2 = nn\n",
    "    return [best_features, [xx1, xx2], best_score]"
   ]
  },
  {
   "cell_type": "code",
   "execution_count": 18,
   "metadata": {},
   "outputs": [
    {
     "name": "stdout",
     "output_type": "stream",
     "text": [
      "[['housing', 'pdays'], [2, 8], 0.8909358879882093]\n"
     ]
    }
   ],
   "source": [
    "output = find_best_features(X_train, X_test, y_train, y_test)\n",
    "print(output)"
   ]
  },
  {
   "cell_type": "code",
   "execution_count": 19,
   "metadata": {},
   "outputs": [],
   "source": [
    "def plot_best_feature(output, X_train, X_test, y_train, y_test):\n",
    "    knn = KNeighborsClassifier(n_neighbors=5, \n",
    "                           p=2, \n",
    "                           metric='minkowski')\n",
    "    knn.fit(X_train[output[0]], y_train)\n",
    "    \n",
    "    X_combined = np.vstack((X_train[output[0]], X_test[output[0]]))\n",
    "    y_combined = np.hstack((y_train, y_test))\n",
    "    \n",
    "    plot_decision_regions(X=X_combined, y=y_combined,\n",
    "                      classifier=knn, test_idx=range(105, 150))\n",
    "    plt.xlabel(output[0][0])\n",
    "    plt.ylabel(output[0][1])\n",
    "    plt.legend(loc='upper left')\n",
    "\n",
    "    plt.tight_layout()\n",
    "    plt.show()"
   ]
  },
  {
   "cell_type": "code",
   "execution_count": 20,
   "metadata": {},
   "outputs": [
    {
     "data": {
      "image/png": "[encoded data removed]",
      "text/plain": [
       "<matplotlib.figure.Figure at 0x12106b6c358>"
      ]
     },
     "metadata": {},
     "output_type": "display_data"
    }
   ],
   "source": [
    "plot_best_feature(output, X_train, X_test, y_train, y_test)"
   ]
  },
  {
   "cell_type": "markdown",
   "metadata": {},
   "source": [
    "Results of the best features:\n",
    "Perceptron: age and default, accurancy score=0.885;\n",
    "Logistic regression: housing and duration, accurancy score= 0.890;\n",
    "SVM: hosuing and pdays, accurancy score=0.887;\n",
    "Decision trees: duration and pdays, accurancy score=0.889;\n",
    "KNN: housing and pdays, accurancy score=0.891;\n",
    "The KNN method has the highest accurancy score so we choose housing and pdays as the best features."
   ]
  },
  {
   "cell_type": "code",
   "execution_count": null,
   "metadata": {},
   "outputs": [],
   "source": []
  }
 ],
 "metadata": {
  "kernelspec": {
   "display_name": "Python 3",
   "language": "python",
   "name": "python3"
  },
  "language_info": {
   "codemirror_mode": {
    "name": "ipython",
    "version": 3
   },
   "file_extension": ".py",
   "mimetype": "text/x-python",
   "name": "python",
   "nbconvert_exporter": "python",
   "pygments_lexer": "ipython3",
   "version": "3.6.4"
  }
 },
 "nbformat": 4,
 "nbformat_minor": 2
}
